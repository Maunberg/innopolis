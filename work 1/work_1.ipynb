{
  "nbformat": 4,
  "nbformat_minor": 0,
  "metadata": {
    "colab": {
      "provenance": []
    },
    "kernelspec": {
      "name": "python3",
      "display_name": "Python 3"
    },
    "language_info": {
      "name": "python"
    }
  },
  "cells": [
    {
      "cell_type": "markdown",
      "source": [
        "# Создание шаблона"
      ],
      "metadata": {
        "id": "BbE6uQvK5l1f"
      }
    },
    {
      "cell_type": "markdown",
      "source": [
        "## Установка и импорт"
      ],
      "metadata": {
        "id": "SPlRnsVp1A24"
      }
    },
    {
      "cell_type": "code",
      "execution_count": null,
      "metadata": {
        "colab": {
          "base_uri": "https://localhost:8080/"
        },
        "id": "zwMdpHUk0exF",
        "outputId": "e8a8069b-9213-4746-dc95-fba53292d14e"
      },
      "outputs": [
        {
          "output_type": "stream",
          "name": "stdout",
          "text": [
            "Looking in indexes: https://pypi.org/simple, https://us-python.pkg.dev/colab-wheels/public/simple/\n",
            "Requirement already satisfied: docxtpl in /usr/local/lib/python3.8/dist-packages (0.16.5)\n",
            "Requirement already satisfied: python-docx in /usr/local/lib/python3.8/dist-packages (from docxtpl) (0.8.11)\n",
            "Requirement already satisfied: lxml in /usr/local/lib/python3.8/dist-packages (from docxtpl) (4.9.2)\n",
            "Requirement already satisfied: six in /usr/local/lib/python3.8/dist-packages (from docxtpl) (1.15.0)\n",
            "Requirement already satisfied: jinja2 in /usr/local/lib/python3.8/dist-packages (from docxtpl) (3.1.2)\n",
            "Requirement already satisfied: docxcompose in /usr/local/lib/python3.8/dist-packages (from docxtpl) (1.4.0)\n",
            "Requirement already satisfied: babel in /usr/local/lib/python3.8/dist-packages (from docxcompose->docxtpl) (2.11.0)\n",
            "Requirement already satisfied: setuptools in /usr/local/lib/python3.8/dist-packages (from docxcompose->docxtpl) (57.4.0)\n",
            "Requirement already satisfied: MarkupSafe>=2.0 in /usr/local/lib/python3.8/dist-packages (from jinja2->docxtpl) (2.1.2)\n",
            "Requirement already satisfied: pytz>=2015.7 in /usr/local/lib/python3.8/dist-packages (from babel->docxcompose->docxtpl) (2022.7.1)\n"
          ]
        }
      ],
      "source": [
        "!pip install docxtpl"
      ]
    },
    {
      "cell_type": "code",
      "source": [
        "!pip install python-docx"
      ],
      "metadata": {
        "colab": {
          "base_uri": "https://localhost:8080/"
        },
        "id": "mu40dDXv07BU",
        "outputId": "83ee6dd5-fdbc-417d-f618-856673f9a893"
      },
      "execution_count": null,
      "outputs": [
        {
          "output_type": "stream",
          "name": "stdout",
          "text": [
            "Looking in indexes: https://pypi.org/simple, https://us-python.pkg.dev/colab-wheels/public/simple/\n",
            "Requirement already satisfied: python-docx in /usr/local/lib/python3.8/dist-packages (0.8.11)\n",
            "Requirement already satisfied: lxml>=2.3.2 in /usr/local/lib/python3.8/dist-packages (from python-docx) (4.9.2)\n"
          ]
        }
      ]
    },
    {
      "cell_type": "code",
      "source": [
        "from docxtpl import DocxTemplate\n",
        "import os\n",
        "import pandas as pd\n",
        "import docx\n",
        "from datetime import datetime\n",
        "from datetime import date"
      ],
      "metadata": {
        "id": "akQ0DteQ09T1"
      },
      "execution_count": null,
      "outputs": []
    },
    {
      "cell_type": "markdown",
      "source": [
        "## Загрузка данных"
      ],
      "metadata": {
        "id": "1Khf41KF1JbT"
      }
    },
    {
      "cell_type": "code",
      "source": [
        "excel_data = pd.read_excel('data.xlsx')\n",
        "excel_data"
      ],
      "metadata": {
        "colab": {
          "base_uri": "https://localhost:8080/",
          "height": 175
        },
        "id": "w6VB2S2909WM",
        "outputId": "f9e180f8-bd42-4f0d-d640-15e28dd6c4e0"
      },
      "execution_count": null,
      "outputs": [
        {
          "output_type": "execute_result",
          "data": {
            "text/plain": [
              "       Фамилия    Имя       Отчество  Группа  Кол-во долгов\n",
              "0     Антонова   Анна     Алексеевна    6031              4\n",
              "1      Козлова  Мария       Олеговна    6032              6\n",
              "2  Александров   Иван       Иванович    6032              5\n",
              "3       Петров   Иван  Вассарионович    6032              1"
            ],
            "text/html": [
              "\n",
              "  <div id=\"df-81993f1b-021f-4855-a867-581db332a53d\">\n",
              "    <div class=\"colab-df-container\">\n",
              "      <div>\n",
              "<style scoped>\n",
              "    .dataframe tbody tr th:only-of-type {\n",
              "        vertical-align: middle;\n",
              "    }\n",
              "\n",
              "    .dataframe tbody tr th {\n",
              "        vertical-align: top;\n",
              "    }\n",
              "\n",
              "    .dataframe thead th {\n",
              "        text-align: right;\n",
              "    }\n",
              "</style>\n",
              "<table border=\"1\" class=\"dataframe\">\n",
              "  <thead>\n",
              "    <tr style=\"text-align: right;\">\n",
              "      <th></th>\n",
              "      <th>Фамилия</th>\n",
              "      <th>Имя</th>\n",
              "      <th>Отчество</th>\n",
              "      <th>Группа</th>\n",
              "      <th>Кол-во долгов</th>\n",
              "    </tr>\n",
              "  </thead>\n",
              "  <tbody>\n",
              "    <tr>\n",
              "      <th>0</th>\n",
              "      <td>Антонова</td>\n",
              "      <td>Анна</td>\n",
              "      <td>Алексеевна</td>\n",
              "      <td>6031</td>\n",
              "      <td>4</td>\n",
              "    </tr>\n",
              "    <tr>\n",
              "      <th>1</th>\n",
              "      <td>Козлова</td>\n",
              "      <td>Мария</td>\n",
              "      <td>Олеговна</td>\n",
              "      <td>6032</td>\n",
              "      <td>6</td>\n",
              "    </tr>\n",
              "    <tr>\n",
              "      <th>2</th>\n",
              "      <td>Александров</td>\n",
              "      <td>Иван</td>\n",
              "      <td>Иванович</td>\n",
              "      <td>6032</td>\n",
              "      <td>5</td>\n",
              "    </tr>\n",
              "    <tr>\n",
              "      <th>3</th>\n",
              "      <td>Петров</td>\n",
              "      <td>Иван</td>\n",
              "      <td>Вассарионович</td>\n",
              "      <td>6032</td>\n",
              "      <td>1</td>\n",
              "    </tr>\n",
              "  </tbody>\n",
              "</table>\n",
              "</div>\n",
              "      <button class=\"colab-df-convert\" onclick=\"convertToInteractive('df-81993f1b-021f-4855-a867-581db332a53d')\"\n",
              "              title=\"Convert this dataframe to an interactive table.\"\n",
              "              style=\"display:none;\">\n",
              "        \n",
              "  <svg xmlns=\"http://www.w3.org/2000/svg\" height=\"24px\"viewBox=\"0 0 24 24\"\n",
              "       width=\"24px\">\n",
              "    <path d=\"M0 0h24v24H0V0z\" fill=\"none\"/>\n",
              "    <path d=\"M18.56 5.44l.94 2.06.94-2.06 2.06-.94-2.06-.94-.94-2.06-.94 2.06-2.06.94zm-11 1L8.5 8.5l.94-2.06 2.06-.94-2.06-.94L8.5 2.5l-.94 2.06-2.06.94zm10 10l.94 2.06.94-2.06 2.06-.94-2.06-.94-.94-2.06-.94 2.06-2.06.94z\"/><path d=\"M17.41 7.96l-1.37-1.37c-.4-.4-.92-.59-1.43-.59-.52 0-1.04.2-1.43.59L10.3 9.45l-7.72 7.72c-.78.78-.78 2.05 0 2.83L4 21.41c.39.39.9.59 1.41.59.51 0 1.02-.2 1.41-.59l7.78-7.78 2.81-2.81c.8-.78.8-2.07 0-2.86zM5.41 20L4 18.59l7.72-7.72 1.47 1.35L5.41 20z\"/>\n",
              "  </svg>\n",
              "      </button>\n",
              "      \n",
              "  <style>\n",
              "    .colab-df-container {\n",
              "      display:flex;\n",
              "      flex-wrap:wrap;\n",
              "      gap: 12px;\n",
              "    }\n",
              "\n",
              "    .colab-df-convert {\n",
              "      background-color: #E8F0FE;\n",
              "      border: none;\n",
              "      border-radius: 50%;\n",
              "      cursor: pointer;\n",
              "      display: none;\n",
              "      fill: #1967D2;\n",
              "      height: 32px;\n",
              "      padding: 0 0 0 0;\n",
              "      width: 32px;\n",
              "    }\n",
              "\n",
              "    .colab-df-convert:hover {\n",
              "      background-color: #E2EBFA;\n",
              "      box-shadow: 0px 1px 2px rgba(60, 64, 67, 0.3), 0px 1px 3px 1px rgba(60, 64, 67, 0.15);\n",
              "      fill: #174EA6;\n",
              "    }\n",
              "\n",
              "    [theme=dark] .colab-df-convert {\n",
              "      background-color: #3B4455;\n",
              "      fill: #D2E3FC;\n",
              "    }\n",
              "\n",
              "    [theme=dark] .colab-df-convert:hover {\n",
              "      background-color: #434B5C;\n",
              "      box-shadow: 0px 1px 3px 1px rgba(0, 0, 0, 0.15);\n",
              "      filter: drop-shadow(0px 1px 2px rgba(0, 0, 0, 0.3));\n",
              "      fill: #FFFFFF;\n",
              "    }\n",
              "  </style>\n",
              "\n",
              "      <script>\n",
              "        const buttonEl =\n",
              "          document.querySelector('#df-81993f1b-021f-4855-a867-581db332a53d button.colab-df-convert');\n",
              "        buttonEl.style.display =\n",
              "          google.colab.kernel.accessAllowed ? 'block' : 'none';\n",
              "\n",
              "        async function convertToInteractive(key) {\n",
              "          const element = document.querySelector('#df-81993f1b-021f-4855-a867-581db332a53d');\n",
              "          const dataTable =\n",
              "            await google.colab.kernel.invokeFunction('convertToInteractive',\n",
              "                                                     [key], {});\n",
              "          if (!dataTable) return;\n",
              "\n",
              "          const docLinkHtml = 'Like what you see? Visit the ' +\n",
              "            '<a target=\"_blank\" href=https://colab.research.google.com/notebooks/data_table.ipynb>data table notebook</a>'\n",
              "            + ' to learn more about interactive tables.';\n",
              "          element.innerHTML = '';\n",
              "          dataTable['output_type'] = 'display_data';\n",
              "          await google.colab.output.renderOutput(dataTable, element);\n",
              "          const docLink = document.createElement('div');\n",
              "          docLink.innerHTML = docLinkHtml;\n",
              "          element.appendChild(docLink);\n",
              "        }\n",
              "      </script>\n",
              "    </div>\n",
              "  </div>\n",
              "  "
            ]
          },
          "metadata": {},
          "execution_count": 35
        }
      ]
    },
    {
      "cell_type": "markdown",
      "source": [
        "## Работа с данными\n",
        "Загрузка шаблона"
      ],
      "metadata": {
        "id": "HwVKeLhp1mH1"
      }
    },
    {
      "cell_type": "code",
      "source": [
        "doc = docx.Document(\"sablon_uved.docx\")\n",
        "text = []\n",
        "for p in doc.paragraphs:\n",
        "    text.append(p.text)\n",
        "text"
      ],
      "metadata": {
        "colab": {
          "base_uri": "https://localhost:8080/"
        },
        "id": "skxIWPcn09Yl",
        "outputId": "337e8ad9-373e-4783-ef70-82591e8ae104"
      },
      "execution_count": null,
      "outputs": [
        {
          "output_type": "execute_result",
          "data": {
            "text/plain": [
              "['',\n",
              " 'Обучающемуся (-ейся)',\n",
              " '{{fio1}}',\n",
              " 'группы {{ group }}',\n",
              " '',\n",
              " '',\n",
              " 'Уведомление о задолженностях',\n",
              " '№ {{num_u}}',\n",
              " 'Уважаемый (-ая) {{fio2}}',\n",
              " '',\n",
              " 'Уведомляем Вас о том, что на {{cur_date}} у вас имеется {{n}}.',\n",
              " '',\n",
              " '',\n",
              " 'Уведомление получил:',\n",
              " 'Обучающийся\\t  _____________________ /__________________________________',\n",
              " '(Подпись)\\t\\t (ФИО обучающегося полностью)',\n",
              " '',\n",
              " '',\n",
              " '']"
            ]
          },
          "metadata": {},
          "execution_count": 36
        }
      ]
    },
    {
      "cell_type": "markdown",
      "source": [
        "Находим сегодняшнюю дату:"
      ],
      "metadata": {
        "id": "oAFYrr8Kyufy"
      }
    },
    {
      "cell_type": "code",
      "source": [
        "current_date = date.today().strftime(\"%d.%m.%Y\")\n",
        "current_date"
      ],
      "metadata": {
        "id": "_4dzD8jw09a4",
        "colab": {
          "base_uri": "https://localhost:8080/",
          "height": 36
        },
        "outputId": "fa4ef8c7-aa04-4f23-cacc-299251ae0d40"
      },
      "execution_count": null,
      "outputs": [
        {
          "output_type": "execute_result",
          "data": {
            "text/plain": [
              "'02.03.2023'"
            ],
            "application/vnd.google.colaboratory.intrinsic+json": {
              "type": "string"
            }
          },
          "metadata": {},
          "execution_count": 37
        }
      ]
    },
    {
      "cell_type": "markdown",
      "source": [
        "Нам нужно создать столько документов, сколько строк в таблице, следовательно, количество интераций будет совпадать с размерностью таблицы: (1 число - количество строк, 2 число - количество столбцов, нам нужно первое)"
      ],
      "metadata": {
        "id": "h8iQXwqIy5Vi"
      }
    },
    {
      "cell_type": "code",
      "source": [
        "excel_data.shape"
      ],
      "metadata": {
        "colab": {
          "base_uri": "https://localhost:8080/"
        },
        "id": "pBb3q1NwzJqw",
        "outputId": "112329f7-1053-4a76-dc68-3ae0907aa8b8"
      },
      "execution_count": null,
      "outputs": [
        {
          "output_type": "execute_result",
          "data": {
            "text/plain": [
              "(4, 5)"
            ]
          },
          "metadata": {},
          "execution_count": 38
        }
      ]
    },
    {
      "cell_type": "code",
      "source": [
        "len_data = excel_data.shape[0]\n",
        "len_data"
      ],
      "metadata": {
        "id": "QquKGDqL09dQ",
        "colab": {
          "base_uri": "https://localhost:8080/"
        },
        "outputId": "4680255a-9625-422d-97e1-48687c42d2b8"
      },
      "execution_count": null,
      "outputs": [
        {
          "output_type": "execute_result",
          "data": {
            "text/plain": [
              "4"
            ]
          },
          "metadata": {},
          "execution_count": 39
        }
      ]
    },
    {
      "cell_type": "code",
      "source": [
        "numb = 25\n",
        "\n",
        "for i in range(len_data):  #цикл считывания информации, вывода, создания уведомлений\n",
        "    doc = DocxTemplate(\"sablon_uved.docx\")\n",
        "    second_name = excel_data['Фамилия'][i]\n",
        "    first_name = excel_data['Имя'][i]\n",
        "    patronymic = excel_data['Отчество'][i]\n",
        "    n = excel_data['Кол-во долгов'][i]\n",
        "    group = excel_data['Группа'][i]\n",
        "\n",
        "    print(second_name, first_name, patronymic, n, group) #Выводим на экран для проверки\n",
        "    fio1 = f'{second_name} {first_name} {patronymic}' #ФИО\n",
        "\n",
        "    num_u = str(numb) + '-22/23' # получаем номер уведомления\n",
        "\n",
        "    # подставляем в переменные шаблона значения из программы:\n",
        "    context = {'fio1': fio1, 'fio2': fio1,  'group': group, 'n': str(n) +' задолженностей',\n",
        "               'num_u': num_u, 'cur_date': current_date }\n",
        "\n",
        "\n",
        "    doc.render(context)\n",
        "    # сохраняем документ, каждый документ будет иметь следующий формат названия NФамилия.docx\n",
        "    doc.save(str(i+1) + str(excel_data['Фамилия'][i])+'.docx')\n",
        "\n",
        "    numb += 1"
      ],
      "metadata": {
        "id": "wGYXhKkB09fc",
        "colab": {
          "base_uri": "https://localhost:8080/"
        },
        "outputId": "caf1d219-264a-4ee8-f690-80118eb37510"
      },
      "execution_count": null,
      "outputs": [
        {
          "output_type": "stream",
          "name": "stdout",
          "text": [
            "Антонова Анна Алексеевна 4 6031\n",
            "Козлова Мария Олеговна 6 6032\n",
            "Александров Иван Иванович 5 6032\n",
            "Петров Иван Вассарионович 1 6032\n"
          ]
        }
      ]
    },
    {
      "cell_type": "markdown",
      "source": [
        "## Выводы\n",
        "Создали код, который заполняет шаблон, однако у шаблона есть ряд недостатков. Он требует падежей от вставляемых данных. Следовательно, можно его изменить под неизменяемый падеж."
      ],
      "metadata": {
        "id": "6pUt6_8p7Sqv"
      }
    },
    {
      "cell_type": "markdown",
      "source": [
        "# Использование `pymorphy2`"
      ],
      "metadata": {
        "id": "_zd-Sb7Y5yLp"
      }
    },
    {
      "cell_type": "markdown",
      "source": [
        "## Установка и импорт"
      ],
      "metadata": {
        "id": "DUmwIRRz5yd9"
      }
    },
    {
      "cell_type": "code",
      "source": [
        "!pip install pymorphy2"
      ],
      "metadata": {
        "colab": {
          "base_uri": "https://localhost:8080/"
        },
        "id": "vIKrAZzM64ww",
        "outputId": "585d8683-764b-47ba-bc4b-9981c38b626a"
      },
      "execution_count": null,
      "outputs": [
        {
          "output_type": "stream",
          "name": "stdout",
          "text": [
            "Looking in indexes: https://pypi.org/simple, https://us-python.pkg.dev/colab-wheels/public/simple/\n",
            "Requirement already satisfied: pymorphy2 in /usr/local/lib/python3.8/dist-packages (0.9.1)\n",
            "Requirement already satisfied: dawg-python>=0.7.1 in /usr/local/lib/python3.8/dist-packages (from pymorphy2) (0.7.2)\n",
            "Requirement already satisfied: pymorphy2-dicts-ru<3.0,>=2.4 in /usr/local/lib/python3.8/dist-packages (from pymorphy2) (2.4.417127.4579844)\n",
            "Requirement already satisfied: docopt>=0.6 in /usr/local/lib/python3.8/dist-packages (from pymorphy2) (0.6.2)\n"
          ]
        }
      ]
    },
    {
      "cell_type": "code",
      "source": [
        "import pymorphy2\n",
        "morph = pymorphy2.MorphAnalyzer() # морфологический анализ"
      ],
      "metadata": {
        "id": "4dgn4bsV09k2"
      },
      "execution_count": null,
      "outputs": []
    },
    {
      "cell_type": "markdown",
      "source": [
        "## Работа с данными:"
      ],
      "metadata": {
        "id": "GxYb1l2V77mS"
      }
    },
    {
      "cell_type": "code",
      "source": [
        "numb = 25\n",
        "\n",
        "len_data = excel_data.shape[0] # количество студентов\n",
        "\n",
        "current_date = date.today().strftime(\"%d.%m.%Y\") # текущая дата\n",
        "\n",
        "for x in range(len_data): # цикл по числу студентов\n",
        "    doc = DocxTemplate(\"sablon_uved.docx\")\n",
        "\n",
        "    # Получение имени\n",
        "    name = excel_data['Имя'][x].strip() # strip используется для удаления пробелов, если вдруг в слове будет лишний пробел\n",
        "    name1 = morph.parse(name)[0] # получение первого разбора для имени\n",
        "    gender = name1.tag.gender # получение пола, к которому относится имя\n",
        "    name1 = name1.inflect({'datv'}).word.title() # склонение имени в дательный падеж, title - для написания с большой буквы\n",
        "\n",
        "    # Аналогично получение фамилии:\n",
        "    second_name = excel_data['Фамилия'][x].strip()\n",
        "    second_name1 = morph.parse(second_name)[0]\n",
        "    second_name1 = second_name1.inflect({'sing','datv',  gender}).word.title()\n",
        "    # sing - единственной число, datv - дательный падеж, gender - указание пола, к которому относилось имя\n",
        "    # это необходимо, чтоб избежать неверного склонения такой фамилии как Сидорова.\n",
        "\n",
        "    # Аналогично получение отчества:\n",
        "    patronymic = excel_data['Отчество'][x].strip()\n",
        "    patronymic1 = morph.parse(patronymic)[0]\n",
        "    patronymic1 = patronymic1.inflect({'datv'}).word.title()\n",
        "\n",
        "    n = excel_data['Кол-во долгов'][x] # получение количества долгов\n",
        "    group = excel_data['Группа'][x] # получения номера группы\n",
        "\n",
        "\n",
        "    name1 = f'{second_name1} {name1} {patronymic1}' # ФИО в дательно падаже, чтобы подставлять в fio1\n",
        "    name2 = f'{second_name} {name} {patronymic}' # ФИО в именительном падаже, чтобы подставлять в fio2\n",
        "\n",
        "    # получение слово задолженность в нужной форме в зависимости от количества n\n",
        "    n_ph = morph.parse('задолженность')[0]\n",
        "    n_ph = n_ph.make_agree_with_number(n).word\n",
        "    n_ph = f'{n} {n_ph}' # фраза, которая будет выводиться в документе \"4 задолженности\" и тд\n",
        "\n",
        "    print(name2)\n",
        "    numberu = str(numb) + '-21/22'\n",
        "\n",
        "    context = {'fio1': name1, 'fio2': name2,  'group': group, 'n': n_ph,  'num_u': numberu, 'cur_date': current_date }\n",
        "\n",
        "    doc.render(context)\n",
        "\n",
        "    doc.save(str(x+1)+ str(excel_data['Фамилия'][x])+'.docx')\n",
        "    numb += 1"
      ],
      "metadata": {
        "colab": {
          "base_uri": "https://localhost:8080/"
        },
        "id": "imyNCuTP7vTJ",
        "outputId": "f1d1b4b9-d166-491c-b4ad-c97f2713c39f"
      },
      "execution_count": null,
      "outputs": [
        {
          "output_type": "stream",
          "name": "stdout",
          "text": [
            "Антонова Анна Алексеевна\n",
            "Козлова Мария Олеговна\n",
            "Александров Иван Иванович\n",
            "Петров Иван Вассарионович\n"
          ]
        }
      ]
    },
    {
      "cell_type": "markdown",
      "source": [
        "# Индивидуальное задание"
      ],
      "metadata": {
        "id": "W167Sg9k8_B9"
      }
    },
    {
      "cell_type": "markdown",
      "source": [
        "**Ввод переменных с клавиатуры**:\n",
        "\n",
        "- ФИО студента\n",
        "- номер группы\n",
        "- номер уведомления\n",
        "- номер договора\n",
        "- дата договора\n",
        "- сумма задолженности\n",
        "\n"
      ],
      "metadata": {
        "id": "elxChHf19Caj"
      }
    },
    {
      "cell_type": "code",
      "source": [
        "list = []\n",
        "list.append(['словами'])\n",
        "list"
      ],
      "metadata": {
        "colab": {
          "base_uri": "https://localhost:8080/"
        },
        "id": "ZWgk90Q79A_9",
        "outputId": "91d0e5eb-b38c-4a69-a71c-77122fde081a"
      },
      "execution_count": null,
      "outputs": [
        {
          "output_type": "execute_result",
          "data": {
            "text/plain": [
              "[['словами']]"
            ]
          },
          "metadata": {},
          "execution_count": 4
        }
      ]
    },
    {
      "cell_type": "code",
      "source": [
        "import pymorphy2\n",
        "morph = pymorphy2.MorphAnalyzer() # морфологический анализ"
      ],
      "metadata": {
        "id": "lwcP68FM_XWY"
      },
      "execution_count": null,
      "outputs": []
    },
    {
      "cell_type": "code",
      "source": [
        "doc = docx.Document(\"Шаблон_Дутов.docx\")\n",
        "text = []\n",
        "for p in doc.paragraphs:\n",
        "    text.append(p.text)\n",
        "text"
      ],
      "metadata": {
        "colab": {
          "base_uri": "https://localhost:8080/"
        },
        "id": "dHUe_jV8_eI8",
        "outputId": "96e011d2-e203-4936-f2a4-14f296c44101"
      },
      "execution_count": null,
      "outputs": [
        {
          "output_type": "execute_result",
          "data": {
            "text/plain": [
              "['',\n",
              " 'Обучающемуся (-ейся)',\n",
              " '{{fio_dative}}',\n",
              " 'группы {{group}}',\n",
              " '',\n",
              " '',\n",
              " 'Уведомление № {{num_u}}',\n",
              " 'от {{cur_date}}',\n",
              " '',\n",
              " 'Уведомляем Вас о том, что в настоящее время у Вас имеется задолженность по оплате за обучение по договору об обучении {{contract}} от {{con_date}} в размере {{debt}}.',\n",
              " '',\n",
              " 'Директор института  \\t  ________________ /_____{{director}}___________________',\n",
              " '(Подпись)\\t\\t     (ФИО)',\n",
              " '',\n",
              " '',\n",
              " '',\n",
              " 'Уведомление получил:',\n",
              " 'Обучающийся\\t  _____________________ /__{{fio_nominative}}',\n",
              " '(Подпись)\\t\\t (ФИО обучающегося)',\n",
              " '',\n",
              " '',\n",
              " '']"
            ]
          },
          "metadata": {},
          "execution_count": 62
        }
      ]
    },
    {
      "cell_type": "markdown",
      "source": [
        "Проверка некоторых вводных даных"
      ],
      "metadata": {
        "id": "XwbRtBUqOPec"
      }
    },
    {
      "cell_type": "code",
      "source": [
        "name = 'Дмитрий'\n",
        "morph.parse(name)[0].inflect({'datv'}).word.title() #name_dative"
      ],
      "metadata": {
        "colab": {
          "base_uri": "https://localhost:8080/",
          "height": 36
        },
        "id": "io9Gn1ZwCghy",
        "outputId": "94d16b1b-d126-4ed2-fd3f-5c0b308da068"
      },
      "execution_count": null,
      "outputs": [
        {
          "output_type": "execute_result",
          "data": {
            "text/plain": [
              "'Дмитрию'"
            ],
            "application/vnd.google.colaboratory.intrinsic+json": {
              "type": "string"
            }
          },
          "metadata": {},
          "execution_count": 31
        }
      ]
    },
    {
      "cell_type": "code",
      "source": [
        "second_name = 'Журавлёв'\n",
        "gender = morph.parse(name)[0].tag.gender\n",
        "morph.parse(second_name)[0].inflect({'sing','datv', gender}).word.title()"
      ],
      "metadata": {
        "colab": {
          "base_uri": "https://localhost:8080/",
          "height": 36
        },
        "id": "hu2RPXMcdjyJ",
        "outputId": "94a95a05-cdf3-4933-b0f6-618f75885eff"
      },
      "execution_count": null,
      "outputs": [
        {
          "output_type": "execute_result",
          "data": {
            "text/plain": [
              "'Журавлёву'"
            ],
            "application/vnd.google.colaboratory.intrinsic+json": {
              "type": "string"
            }
          },
          "metadata": {},
          "execution_count": 54
        }
      ]
    },
    {
      "cell_type": "markdown",
      "source": [
        "Примечание: pymorphy2 не работает со всеми фамилиями, так как не является достаточно совершенной моделью. Например:"
      ],
      "metadata": {
        "id": "fViLE3jogNma"
      }
    },
    {
      "cell_type": "code",
      "source": [
        "second_name = 'Дутов'\n",
        "gender = morph.parse(name)[0].tag.gender\n",
        "morph.parse(second_name)[0].inflect({'sing','datv', gender}).word.title()"
      ],
      "metadata": {
        "colab": {
          "base_uri": "https://localhost:8080/",
          "height": 36
        },
        "outputId": "8920f42c-7552-44b2-e1f4-6824a493720b",
        "id": "kzUcdPNFgyg-"
      },
      "execution_count": null,
      "outputs": [
        {
          "output_type": "execute_result",
          "data": {
            "text/plain": [
              "'Дуту'"
            ],
            "application/vnd.google.colaboratory.intrinsic+json": {
              "type": "string"
            }
          },
          "metadata": {},
          "execution_count": 55
        }
      ]
    },
    {
      "cell_type": "code",
      "source": [
        "second_name = 'Дутову'\n",
        "gender = morph.parse(name)[0].tag.gender\n",
        "morph.parse(second_name)[0].inflect({'sing','nomn', gender}).word.title()"
      ],
      "metadata": {
        "colab": {
          "base_uri": "https://localhost:8080/",
          "height": 36
        },
        "id": "6eyPt3y8hD1o",
        "outputId": "639b238d-cc47-4fcd-c69e-6c67a776145e"
      },
      "execution_count": null,
      "outputs": [
        {
          "output_type": "execute_result",
          "data": {
            "text/plain": [
              "'Дутов'"
            ],
            "application/vnd.google.colaboratory.intrinsic+json": {
              "type": "string"
            }
          },
          "metadata": {},
          "execution_count": 56
        }
      ]
    },
    {
      "cell_type": "code",
      "source": [
        "second_name = 'Журавлёву'\n",
        "gender = morph.parse(name)[0].tag.gender\n",
        "morph.parse(second_name)[0].inflect({'sing','nomn', gender}).word.title()"
      ],
      "metadata": {
        "colab": {
          "base_uri": "https://localhost:8080/",
          "height": 36
        },
        "id": "sJtQrc6BhSmV",
        "outputId": "2aeb672d-23e2-4f94-8943-a3c85f11399c"
      },
      "execution_count": null,
      "outputs": [
        {
          "output_type": "execute_result",
          "data": {
            "text/plain": [
              "'Журавлёв'"
            ],
            "application/vnd.google.colaboratory.intrinsic+json": {
              "type": "string"
            }
          },
          "metadata": {},
          "execution_count": 57
        }
      ]
    },
    {
      "cell_type": "markdown",
      "source": [
        "Но мы видим, что слова, которые изначально подаются в дательном падеже, куда лучше становятся в именительный падеж, это также решает проблему несклоняемых неизвестных морфологизатору фамилий. Поэтому лучше попросить пользователя ввести фамилию в дательном подеже. Так как по условию данные вводят, а не используют из таблицы, мы можем рассчитывать на пользовательский ввод."
      ],
      "metadata": {
        "id": "A6xl18OUhJXw"
      }
    },
    {
      "cell_type": "code",
      "source": [
        "n_ph = morph.parse('рубли')[0]\n",
        "n_ph = n_ph.make_agree_with_number(2081).word\n",
        "n_ph = f'{2081} {n_ph}'\n",
        "n_ph"
      ],
      "metadata": {
        "colab": {
          "base_uri": "https://localhost:8080/",
          "height": 36
        },
        "id": "b1RbH0zirnUs",
        "outputId": "0c76b3c7-c3db-463b-cb03-93802d109a2a"
      },
      "execution_count": null,
      "outputs": [
        {
          "output_type": "execute_result",
          "data": {
            "text/plain": [
              "'2081 рубль'"
            ],
            "application/vnd.google.colaboratory.intrinsic+json": {
              "type": "string"
            }
          },
          "metadata": {},
          "execution_count": 61
        }
      ]
    },
    {
      "cell_type": "markdown",
      "source": [
        "fio_dative - ФИО в дательном падеже студента\n",
        "\n",
        "group - группа студента\n",
        "\n",
        "num_u - номер уведомления\n",
        "\n",
        "cur_date - сегодняшняя дата\n",
        "\n",
        "contract - номер договора\n",
        "\n",
        "con_date -  дата договора\n",
        "\n",
        "debt - сумма долга\n",
        "\n",
        "director - И.О. Фамилия декана/директора\n",
        "\n",
        "fio_nominative - И.О. Фамилия студента в именительном падеже"
      ],
      "metadata": {
        "id": "D-mvhf_qjLlr"
      }
    },
    {
      "cell_type": "code",
      "source": [
        "current_date = date.today().strftime(\"%d.%m.%Y\") # текущая дата\n",
        "\n",
        "for x in range(int(input('Введите, для скольки студентов заполнять уведомление'))): # цикл по числу студентов\n",
        "    doc = DocxTemplate(\"Шаблон_Дутов.docx\")\n",
        "\n",
        "    numb = input('Номер уведомления: ')\n",
        "    contract = input('Введите номер договора: ')\n",
        "    debt = int(input('Введите размер долга: '))\n",
        "    director = input('Введите ФИО директора института/декана факультета: ') #у нас есть два варианта ввода: Иванов И.И. и Иванов Иван Иванович\n",
        "    if director.count('.')==0:\n",
        "      sub = director.split()\n",
        "      director = f'{sub[0]} {sub[1][0]}. {sub[2][0]}.' #если у нас ввод полных ФИО, мы выводим Фамилия И.О.\n",
        "\n",
        "    # Получение имени\n",
        "    name = input('Введите имя студента:')\n",
        "    name1 = morph.parse(name)[0] # получение первого разбора для имени\n",
        "    gender = name1.tag.gender # получение пола, к которому относится имя\n",
        "    name1 = name1.inflect({'datv'}).word.title() # склонение имени в дательный падеж, title - для написания с большой буквы\n",
        "\n",
        "    # Аналогично получение фамилии:\n",
        "    second_name1 = input('Введите фамилию студента в дательном (кому?) падеже: ')\n",
        "    second_name = morph.parse(second_name1)[0]\n",
        "    second_name = second_name.inflect({'sing','nomn', gender}).word.title()\n",
        "    # sing - единственной число, nomn - именительный падеж падеж, gender - указание пола, к которому относилось имя\n",
        "\n",
        "    # Аналогично получение отчества:\n",
        "    patronymic = input('Введите отчество студента: ')\n",
        "    patronymic1 = morph.parse(patronymic)[0]\n",
        "    patronymic1 = patronymic1.inflect({'sing','datv', gender}).word.title()\n",
        "\n",
        "    n = excel_data['Кол-во долгов'][x] # получение количества долгов\n",
        "    group = input('Введите номер группы: ') # получения номера группы\n",
        "\n",
        "\n",
        "    name1 = f'{second_name1} {name1} {patronymic1}' # ФИО в дательно падаже, чтобы подставлять в fio_dative\n",
        "    name2 = f'{second_name} {name[0]}. {patronymic[0]}.' # ФИО в именительном падаже, чтобы подставлять в fio2\n",
        "\n",
        "    # получение слово задолженность в нужной форме в зависимости от количества n\n",
        "    n_ph = morph.parse('рубли')[0]\n",
        "    n_ph = n_ph.make_agree_with_number(debt).word\n",
        "    n_ph = f'{debt} {n_ph}' # фраза, которая будет выводиться в документе \"4 задолженности\" и тд\n",
        "\n",
        "    print(name2)\n",
        "    numberu = str(numb) + '-22/23'\n",
        "\n",
        "    context = {'fio_dative': name1,\n",
        "               'fio_nominative': name2,\n",
        "               'group': group,\n",
        "               'num_u': numberu,\n",
        "               'cur_date': current_date,\n",
        "               'contract':contract,\n",
        "               'debt':n_ph,\n",
        "               'director':director}\n",
        "\n",
        "    doc.render(context)\n",
        "\n",
        "    doc.save('test'+'.docx')"
      ],
      "metadata": {
        "colab": {
          "base_uri": "https://localhost:8080/"
        },
        "id": "W0tAlp309Bjp",
        "outputId": "71fd61da-4757-4440-feef-88227c5cb7e3"
      },
      "execution_count": null,
      "outputs": [
        {
          "output_type": "stream",
          "name": "stdout",
          "text": [
            "Введите, для скольки студентов заполнять уведомление1\n",
            "Номер уведомления: 0001\n",
            "Введите номер договора: 121212\n",
            "Введите размер долга: 5452\n",
            "Введите ФИО директора института/декана факультета: Лосев Константин Викторович\n",
            "Введите имя студента:Антон\n",
            "Введите фамилию студента в дательном (кому?) падеже: Попову\n",
            "Введите отчество студента: Викторович\n",
            "Введите номер группы: 6359\n",
            "Попов А. В.\n"
          ]
        }
      ]
    }
  ]
}